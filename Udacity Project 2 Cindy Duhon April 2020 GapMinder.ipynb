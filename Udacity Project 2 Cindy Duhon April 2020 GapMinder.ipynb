{
 "cells": [
  {
   "cell_type": "code",
   "execution_count": 7,
   "metadata": {
    "scrolled": true
   },
   "outputs": [
    {
     "name": "stdout",
     "output_type": "stream",
     "text": [
      "         country  1800  1801  1802  1803  1804  1805  1806  1807  1808  ...  \\\n",
      "0    Afghanistan   603   603   603   603   603   603   603   603   603  ...   \n",
      "1        Albania   667   667   667   667   667   668   668   668   668  ...   \n",
      "2        Algeria   715   716   717   718   719   720   721   722   723  ...   \n",
      "3        Andorra  1200  1200  1200  1200  1210  1210  1210  1210  1220  ...   \n",
      "4         Angola   618   620   623   626   628   631   634   637   640  ...   \n",
      "..           ...   ...   ...   ...   ...   ...   ...   ...   ...   ...  ...   \n",
      "188    Venezuela  1210  1200  1200  1190  1180  1180  1170  1170  1160  ...   \n",
      "189      Vietnam   778   778   778   778   778   778   778   778   778  ...   \n",
      "190        Yemen   877   879   882   884   887   889   892   894   897  ...   \n",
      "191       Zambia   663   665   667   668   670   671   673   675   676  ...   \n",
      "192     Zimbabwe   869   870   871   872   873   874   875   876   877  ...   \n",
      "\n",
      "      2031   2032   2033   2034   2035   2036   2037   2038   2039   2040  \n",
      "0     2550   2600   2660   2710   2770   2820   2880   2940   3000   3060  \n",
      "1    19400  19800  20200  20600  21000  21500  21900  22300  22800  23300  \n",
      "2    14300  14600  14900  15200  15500  15800  16100  16500  16800  17100  \n",
      "3    73600  75100  76700  78300  79800  81500  83100  84800  86500  88300  \n",
      "4     6110   6230   6350   6480   6610   6740   6880   7020   7160   7310  \n",
      "..     ...    ...    ...    ...    ...    ...    ...    ...    ...    ...  \n",
      "188   8270   8420   8580   8760   8930   9110   9300   9490   9680   9880  \n",
      "189  11900  12200  12500  12700  13000  13300  13500  13800  14100  14400  \n",
      "190   3230   3290   3360   3430   3500   3570   3640   3720   3790   3870  \n",
      "191   3500   3560   3630   3700   3780   3860   3930   4010   4100   4180  \n",
      "192   2630   2680   2730   2780   2840   2900   2960   3020   3080   3140  \n",
      "\n",
      "[193 rows x 242 columns]\n"
     ]
    }
   ],
   "source": [
    "import pandas as pd\n",
    "df = pd.read_csv ('income_per_person_gdppercapita_ppp_inflation_adjusted.csv')\n",
    "print (df)\n"
   ]
  },
  {
   "cell_type": "code",
   "execution_count": null,
   "metadata": {},
   "outputs": [],
   "source": []
  }
 ],
 "metadata": {
  "kernelspec": {
   "display_name": "Python 3",
   "language": "python",
   "name": "python3"
  },
  "language_info": {
   "codemirror_mode": {
    "name": "ipython",
    "version": 3
   },
   "file_extension": ".py",
   "mimetype": "text/x-python",
   "name": "python",
   "nbconvert_exporter": "python",
   "pygments_lexer": "ipython3",
   "version": "3.7.6"
  }
 },
 "nbformat": 4,
 "nbformat_minor": 4
}
